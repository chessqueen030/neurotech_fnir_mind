{
 "cells": [
  {
   "cell_type": "code",
   "execution_count": 1,
   "metadata": {},
   "outputs": [],
   "source": [
    "import numpy as np \n",
    "import os\n",
    "import mne\n",
    "import pandas as pd\n",
    "from itertools import compress\n",
    "from sklearn.model_selection import train_test_split\n",
    "from sklearn.ensemble import RandomForestClassifier\n",
    "from sklearn.metrics import accuracy_score\n",
    "from sklearn.linear_model import LinearRegression\n",
    "import re\n",
    "from sklearn.metrics import mean_squared_error, r2_score\n",
    "import matplotlib.pyplot as plt\n",
    "import seaborn as sns\n",
    "from sklearn import metrics\n",
    "\n",
    "# import the data here (Sai)\n"
   ]
  },
  {
   "cell_type": "code",
   "execution_count": 7,
   "metadata": {},
   "outputs": [
    {
     "name": "stdout",
     "output_type": "stream",
     "text": [
      "Loading C:\\Users\\takoy\\fnirs-github\\neurotech_fnir_mind\\data\\rest15.snirf\n",
      "Reading 0 ... 22949  =      0.000 ...   458.980 secs...\n"
     ]
    },
    {
     "name": "stderr",
     "output_type": "stream",
     "text": [
      "C:\\Users\\takoy\\AppData\\Local\\Temp\\ipykernel_21720\\3258200155.py:9: RuntimeWarning: The data only contains 2D location information for the optode positions. It is highly recommended that data is used which contains 3D location information for the optode positions. With only 2D locations it can not be guaranteed that MNE functions will behave correctly and produce accurate results. If it is not possible to include 3D positions in your data, please consider using the set_montage() function.\n",
      "  raw_intensity = mne.io.read_raw_snirf(file_path, verbose=True)\n",
      "C:\\Users\\takoy\\AppData\\Local\\Temp\\ipykernel_21720\\3258200155.py:18: RuntimeWarning: Negative intensities encountered. Setting to abs(x)\n",
      "  raw_od = mne.preprocessing.nirs.optical_density(raw_intensity)\n"
     ]
    },
    {
     "name": "stdout",
     "output_type": "stream",
     "text": [
      "Filtering raw data in 1 contiguous segment\n",
      "Setting up band-pass filter from 0.05 - 0.7 Hz\n",
      "\n",
      "FIR filter parameters\n",
      "---------------------\n",
      "Designing a one-pass, zero-phase, non-causal bandpass filter:\n",
      "- Windowed time-domain design (firwin) method\n",
      "- Hamming window with 0.0194 passband ripple and 53 dB stopband attenuation\n",
      "- Lower passband edge: 0.05\n",
      "- Lower transition bandwidth: 0.02 Hz (-6 dB cutoff frequency: 0.04 Hz)\n",
      "- Upper passband edge: 0.70 Hz\n",
      "- Upper transition bandwidth: 0.20 Hz (-6 dB cutoff frequency: 0.80 Hz)\n",
      "- Filter length: 8251 samples (165.020 s)\n",
      "\n"
     ]
    },
    {
     "name": "stderr",
     "output_type": "stream",
     "text": [
      "[Parallel(n_jobs=1)]: Done  17 tasks      | elapsed:    0.0s\n",
      "[Parallel(n_jobs=1)]: Done  71 tasks      | elapsed:    0.1s\n"
     ]
    },
    {
     "ename": "AttributeError",
     "evalue": "'numpy.ndarray' object has no attribute 'preload'",
     "output_type": "error",
     "traceback": [
      "\u001b[1;31m---------------------------------------------------------------------------\u001b[0m",
      "\u001b[1;31mAttributeError\u001b[0m                            Traceback (most recent call last)",
      "Cell \u001b[1;32mIn[7], line 36\u001b[0m\n\u001b[0;32m     33\u001b[0m \u001b[38;5;28;01mfor\u001b[39;00m e, c \u001b[38;5;129;01min\u001b[39;00m \u001b[38;5;28mzip\u001b[39m(manual_events, manual_codes):\n\u001b[0;32m     34\u001b[0m     stim_ch[\u001b[38;5;241m0\u001b[39m, e] \u001b[38;5;241m=\u001b[39m c\n\u001b[1;32m---> 36\u001b[0m \u001b[43mraw_haemo\u001b[49m\u001b[38;5;241;43m.\u001b[39;49m\u001b[43madd_channels\u001b[49m\u001b[43m(\u001b[49m\u001b[43m[\u001b[49m\u001b[43mstim_ch\u001b[49m\u001b[43m]\u001b[49m\u001b[43m,\u001b[49m\u001b[43m \u001b[49m\u001b[43mforce_update_info\u001b[49m\u001b[38;5;241;43m=\u001b[39;49m\u001b[38;5;28;43;01mTrue\u001b[39;49;00m\u001b[43m)\u001b[49m\n\u001b[0;32m     38\u001b[0m events \u001b[38;5;241m=\u001b[39m mne\u001b[38;5;241m.\u001b[39mfind_events(raw_haemo, stim_channel\u001b[38;5;241m=\u001b[39m\u001b[38;5;28;01mNone\u001b[39;00m, min_duration\u001b[38;5;241m=\u001b[39m\u001b[38;5;241m0.01\u001b[39m)\n\u001b[0;32m     39\u001b[0m event_dict \u001b[38;5;241m=\u001b[39m {\u001b[38;5;241m1\u001b[39m: \u001b[38;5;124m\"\u001b[39m\u001b[38;5;124mControl\u001b[39m\u001b[38;5;124m\"\u001b[39m, \u001b[38;5;241m2\u001b[39m: \u001b[38;5;124m\"\u001b[39m\u001b[38;5;124mTapping (Left)\u001b[39m\u001b[38;5;124m\"\u001b[39m, \u001b[38;5;241m3\u001b[39m: \u001b[38;5;124m\"\u001b[39m\u001b[38;5;124mTapping (Right)\u001b[39m\u001b[38;5;124m\"\u001b[39m}\n",
      "File \u001b[1;32m~\\AppData\\Local\\Packages\\PythonSoftwareFoundation.Python.3.12_qbz5n2kfra8p0\\LocalCache\\local-packages\\Python312\\site-packages\\mne\\channels\\channels.py:699\u001b[0m, in \u001b[0;36mUpdateChannelsMixin.add_channels\u001b[1;34m(self, add_list, force_update_info)\u001b[0m\n\u001b[0;32m    697\u001b[0m \u001b[38;5;66;03m# Object-specific checks\u001b[39;00m\n\u001b[0;32m    698\u001b[0m \u001b[38;5;28;01mfor\u001b[39;00m inst \u001b[38;5;129;01min\u001b[39;00m add_list \u001b[38;5;241m+\u001b[39m [\u001b[38;5;28mself\u001b[39m]:\n\u001b[1;32m--> 699\u001b[0m     \u001b[43m_check_preload\u001b[49m\u001b[43m(\u001b[49m\u001b[43minst\u001b[49m\u001b[43m,\u001b[49m\u001b[43m \u001b[49m\u001b[38;5;124;43m\"\u001b[39;49m\u001b[38;5;124;43madding channels\u001b[39;49m\u001b[38;5;124;43m\"\u001b[39;49m\u001b[43m)\u001b[49m\n\u001b[0;32m    700\u001b[0m \u001b[38;5;28;01mif\u001b[39;00m \u001b[38;5;28misinstance\u001b[39m(\u001b[38;5;28mself\u001b[39m, BaseRaw):\n\u001b[0;32m    701\u001b[0m     con_axis \u001b[38;5;241m=\u001b[39m \u001b[38;5;241m0\u001b[39m\n",
      "File \u001b[1;32m~\\AppData\\Local\\Packages\\PythonSoftwareFoundation.Python.3.12_qbz5n2kfra8p0\\LocalCache\\local-packages\\Python312\\site-packages\\mne\\utils\\check.py:316\u001b[0m, in \u001b[0;36m_check_preload\u001b[1;34m(inst, msg)\u001b[0m\n\u001b[0;32m    314\u001b[0m \u001b[38;5;28;01melse\u001b[39;00m:\n\u001b[0;32m    315\u001b[0m     name \u001b[38;5;241m=\u001b[39m \u001b[38;5;124m\"\u001b[39m\u001b[38;5;124mepochs\u001b[39m\u001b[38;5;124m\"\u001b[39m \u001b[38;5;28;01mif\u001b[39;00m \u001b[38;5;28misinstance\u001b[39m(inst, BaseEpochs) \u001b[38;5;28;01melse\u001b[39;00m \u001b[38;5;124m\"\u001b[39m\u001b[38;5;124mraw\u001b[39m\u001b[38;5;124m\"\u001b[39m\n\u001b[1;32m--> 316\u001b[0m     \u001b[38;5;28;01mif\u001b[39;00m \u001b[38;5;129;01mnot\u001b[39;00m \u001b[43minst\u001b[49m\u001b[38;5;241;43m.\u001b[39;49m\u001b[43mpreload\u001b[49m:\n\u001b[0;32m    317\u001b[0m         \u001b[38;5;28;01mraise\u001b[39;00m \u001b[38;5;167;01mRuntimeError\u001b[39;00m(\n\u001b[0;32m    318\u001b[0m             \u001b[38;5;124m\"\u001b[39m\u001b[38;5;124mBy default, MNE does not load data into main memory to \u001b[39m\u001b[38;5;124m\"\u001b[39m\n\u001b[0;32m    319\u001b[0m             \u001b[38;5;124m\"\u001b[39m\u001b[38;5;124mconserve resources. \u001b[39m\u001b[38;5;124m\"\u001b[39m \u001b[38;5;241m+\u001b[39m msg \u001b[38;5;241m+\u001b[39m \u001b[38;5;124mf\u001b[39m\u001b[38;5;124m\"\u001b[39m\u001b[38;5;124m requires \u001b[39m\u001b[38;5;132;01m{\u001b[39;00mname\u001b[38;5;132;01m}\u001b[39;00m\u001b[38;5;124m data to be \u001b[39m\u001b[38;5;124m\"\u001b[39m\n\u001b[0;32m    320\u001b[0m             \u001b[38;5;124m\"\u001b[39m\u001b[38;5;124mloaded. Use preload=True (or string) in the constructor or \u001b[39m\u001b[38;5;124m\"\u001b[39m\n\u001b[0;32m    321\u001b[0m             \u001b[38;5;124mf\u001b[39m\u001b[38;5;124m\"\u001b[39m\u001b[38;5;132;01m{\u001b[39;00mname\u001b[38;5;132;01m}\u001b[39;00m\u001b[38;5;124m.load_data().\u001b[39m\u001b[38;5;124m\"\u001b[39m\n\u001b[0;32m    322\u001b[0m         )\n\u001b[0;32m    323\u001b[0m     \u001b[38;5;28;01mif\u001b[39;00m name \u001b[38;5;241m==\u001b[39m \u001b[38;5;124m\"\u001b[39m\u001b[38;5;124mepochs\u001b[39m\u001b[38;5;124m\"\u001b[39m:\n",
      "\u001b[1;31mAttributeError\u001b[0m: 'numpy.ndarray' object has no attribute 'preload'"
     ]
    }
   ],
   "source": [
    "\n",
    "#convert the data file from NIRs to CSV\n",
    "\n",
    "# preprocess the data values (worked on by Thomas and Ian)\n",
    "data_path = r'C:/Users/takoy/fnirs-github/neurotech_fnir_mind/data/'\n",
    "for file in os.listdir(data_path):\n",
    "    file_path = os.path.join(data_path, file)\n",
    "    if (\"nirs\" in file or \"csv\" in file):\n",
    "        continue\n",
    "    raw_intensity = mne.io.read_raw_snirf(file_path, verbose=True)\n",
    "    raw_intensity.load_data()\n",
    "\n",
    "    picks = mne.pick_types(raw_intensity.info, meg=False, fnirs=True)\n",
    "    dists = mne.preprocessing.nirs.source_detector_distances(\n",
    "        raw_intensity.info, picks = picks\n",
    "    )\n",
    "    raw_intensity.pick(picks[dists > 0.01])\n",
    "    \n",
    "    raw_od = mne.preprocessing.nirs.optical_density(raw_intensity)\n",
    "\n",
    "    sci = mne.preprocessing.nirs.scalp_coupling_index(raw_od)\n",
    "\n",
    "    raw_od.info['bads'] = list(compress(raw_od.ch_names, sci < 0.5))\n",
    "\n",
    "    raw_haemo = mne.preprocessing.nirs.beer_lambert_law(raw_od, ppf=0.1)\n",
    "\n",
    "    raw_haemo_unfiltered = raw_haemo.copy()\n",
    "    raw_haemo.filter(0.05, 0.7, h_trans_bandwidth=0.2, l_trans_bandwidth=0.02)\n",
    "\n",
    "    stim_ch = np.zeros((1, raw_haemo.n_times))\n",
    "    manual_events = [5000, 10000, 15000]\n",
    "    manual_codes = [1, 2, 3]\n",
    "\n",
    "    for e, c in zip(manual_events, manual_codes):\n",
    "        stim_ch[0, e] = c\n",
    "\n",
    "    raw_haemo.add_channels([stim_ch], force_update_info=True)\n",
    "\n",
    "    events = mne.find_events(raw_haemo, stim_channel=None, min_duration=0.01)\n",
    "    event_dict = {1: \"Control\", 2: \"Tapping (Left)\", 3: \"Tapping (Right)\"}\n",
    "\n",
    "    reject_criteria = dict(hbo=80e-6)\n",
    "    tmin, tmax = -5, 15\n",
    "\n",
    "    epochs = mne.Epochs(\n",
    "        raw_haemo,\n",
    "        events,\n",
    "        event_id=event_dict,\n",
    "        tmin=tmin,\n",
    "        tmax=tmax,\n",
    "        reject=reject_criteria,\n",
    "        reject_by_annotation=True,\n",
    "        proj=True,\n",
    "        baseline=(None, 0),\n",
    "        preload=True,\n",
    "        detrend=None,\n",
    "        verbose=True,\n",
    "    )\n",
    "\n",
    "    evoked_dict = {\n",
    "        \"Tapping/HbO\": epochs[\"Tapping\"].average(picks=\"hbo\"),\n",
    "        \"Tapping/HbR\": epochs[\"Tapping\"].average(picks=\"hbr\"),\n",
    "        \"Control/HbO\": epochs[\"Control\"].average(picks=\"hbo\"),\n",
    "        \"Control/HbR\": epochs[\"Control\"].average(picks=\"hbr\"),\n",
    "    }\n",
    "\n",
    "    # Rename channels until the encoding of frequency in ch_name is fixed\n",
    "    for condition in evoked_dict:\n",
    "        evoked_dict[condition].rename_channels(lambda x: x[:-4])\n",
    "\n",
    "    color_dict = dict(HbO=\"#AA3377\", HbR=\"b\")\n",
    "    styles_dict = dict(Control=dict(linestyle=\"dashed\"))\n",
    "\n",
    "    mne.viz.plot_compare_evokeds(\n",
    "    evoked_dict, combine=\"mean\", ci=0.95, colors=color_dict, styles=styles_dict\n",
    ")\n",
    "\n"
   ]
  },
  {
   "cell_type": "code",
   "execution_count": null,
   "metadata": {},
   "outputs": [],
   "source": [
    "# Split data into training and test sets\n",
    "X_train, X_test, y_train, y_test = None\n",
    "\n",
    "#X_train, X_test, y_train, y_test = train_test_split(, , test_size=0.2, random_state=42)\n",
    "model = LinearRegression()\n",
    "model.fit(X_train, y_train)\n",
    "\n",
    "# Make predictions:\n",
    "y_pred = model.predict(X_test)\n",
    "\n",
    "#Get data from fNIRs (Elan)\n",
    "\n",
    "# calculating the mean values.\n",
    "mse = mean_squared_error(y_test, y_pred)\n",
    "r2 = r2_score(y_test, y_pred)\n",
    "cm = metrics.confusion_matrix(y_test, y_pred)\n",
    "\n",
    "print(\"Mean Squared Error:\", mse)\n",
    "print(\"R-squared:\", r2)\n",
    "plt.scatter(X_test, y_test, color='blue')\n",
    "plt.plot(X_test, y_pred, color='red', linewidth=2)\n",
    "plt.show()\n"
   ]
  },
  {
   "cell_type": "code",
   "execution_count": null,
   "metadata": {},
   "outputs": [],
   "source": []
  },
  {
   "cell_type": "code",
   "execution_count": null,
   "metadata": {},
   "outputs": [],
   "source": []
  },
  {
   "cell_type": "code",
   "execution_count": null,
   "metadata": {},
   "outputs": [],
   "source": []
  },
  {
   "cell_type": "code",
   "execution_count": null,
   "metadata": {},
   "outputs": [],
   "source": []
  },
  {
   "cell_type": "code",
   "execution_count": null,
   "metadata": {},
   "outputs": [],
   "source": []
  }
 ],
 "metadata": {
  "kernelspec": {
   "display_name": "Python 3",
   "language": "python",
   "name": "python3"
  },
  "language_info": {
   "codemirror_mode": {
    "name": "ipython",
    "version": 3
   },
   "file_extension": ".py",
   "mimetype": "text/x-python",
   "name": "python",
   "nbconvert_exporter": "python",
   "pygments_lexer": "ipython3",
   "version": "3.12.8"
  }
 },
 "nbformat": 4,
 "nbformat_minor": 2
}
