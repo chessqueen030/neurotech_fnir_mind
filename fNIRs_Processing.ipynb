{
 "cells": [
  {
   "cell_type": "code",
   "execution_count": null,
   "metadata": {},
   "outputs": [],
   "source": [
    "# importing the data stream\n",
    "# %%\n",
    "import mne\n",
    "\n",
    "sample_dir = mne.datasets.sample.data_path()\n",
    "sample_fname = sample_dir / 'MEG' / 'sample' / 'sample_audvis_raw.fif'\n",
    "\n",
    "raw = mne.io.read_raw_fif(sample_fname)\n",
    "raw.crop(tmax=60)\n",
    "\n",
    "events = mne.find_events(raw, stim_channel='STI 014')\n",
    "event_id = {'auditory/left': 1, 'auditory/right': 2, 'visual/left': 3,\n",
    "            'visual/right': 4, 'face': 5, 'buttonpress': 32}\n",
    "\n",
    "epochs = mne.Epochs(raw, events=events, event_id=event_id,\n",
    "                    tmin=-0.2, tmax=0.5, baseline=(None, 0),\n",
    "                    preload=True)\n",
    "import numpy as np\n",
    "import pandas as pd\n",
    "\n",
    "data = pd.read_csv(\"fNIRS_FingerTapping.csv\")\n",
    "# Transpose the DataFrame\n",
    "data_transposed = data.T\n",
    "\n",
    "# Reset the index if necessary (optional)\n",
    "data = data_transposed.reset_index(drop=True).values\n",
    "\n",
    "ch_names = [\n",
    "    \"S1_D1 hbo\",\n",
    "    \"S1_D1 hbr\",\n",
    "    \"S2_D1 hbo\",\n",
    "    \"S2_D1 hbr\",\n",
    "]\n",
    "ch_types = [\n",
    "    \"hbo\",\n",
    "    \"hbr\",\n",
    "    \"hbo\",\n",
    "    \"hbr\",\n",
    "]\n",
    "sfreq = 10.0  # in Hz\n",
    "\n",
    "info = mne.create_info(ch_names=ch_names, ch_types=ch_types, sfreq=sfreq)\n",
    "raw = mne.io.RawArray(data, info, verbose=True)\n",
    "\n",
    "montage = mne.channels.make_standard_montage(\"artinis-octamon\")\n",
    "raw.set_montage(montage)\n",
    "\n",
    "# View the position of optodes in 2D to confirm the positions are correct.\n",
    "#raw.plot_sensors()\n",
    "\n",
    "subjects_dir = mne.datasets.sample.data_path() / \"subjects\"\n",
    "mne.datasets.fetch_fsaverage(subjects_dir=subjects_dir)\n",
    "\n",
    "#brain = mne.viz.Brain(\n",
    "#    \"fsaverage\", subjects_dir=subjects_dir, alpha=0.5, cortex=\"low_contrast\"\n",
    "#)\n",
    "#brain.add_head()\n",
    "#brain.add_sensors(raw.info, trans=\"fsaverage\")\n",
    "#brain.show_view(azimuth=90, elevation=90, distance=500)"
   ]
  },
  {
   "cell_type": "code",
   "execution_count": 119,
   "metadata": {},
   "outputs": [],
   "source": [
    "# Running the tests on the data\n",
    "raw.annotations.set_durations(5)\n",
    "unwanted = np.nonzero(raw.annotations.description == \"15.0\")\n",
    "raw.annotations.delete(unwanted)"
   ]
  },
  {
   "cell_type": "code",
   "execution_count": null,
   "metadata": {},
   "outputs": [],
   "source": [
    "picks = mne.pick_types(raw.info, meg=False, fnirs=True)\n",
    "dists = mne.preprocessing.nirs.source_detector_distances(\n",
    "    raw.info, picks=picks\n",
    ")\n",
    "raw.pick(picks[dists > 0.01])\n",
    "raw.plot(\n",
    "    n_channels=len(raw.ch_names), duration=500, show_scrollbars=False\n",
    ")"
   ]
  },
  {
   "cell_type": "code",
   "execution_count": null,
   "metadata": {},
   "outputs": [],
   "source": [
    "raw_od = mne.preprocessing.nirs.optical_density(raw, verbose=False)\n",
    "raw_od.plot(n_channels=len(raw.ch_names), duration=500, show_scrollbars=False)\n",
    "# evaluating data quality\n",
    "sci = mne.preprocessing.nirs.scalp_coupling_index(raw_od)\n",
    "fig, ax = plt.subplots(layout=\"constrained\")\n",
    "ax.hist(sci)\n",
    "ax.set(xlabel=\"Scalp Coupling Index\", ylabel=\"Count\", xlim=[0, 1])"
   ]
  },
  {
   "cell_type": "code",
   "execution_count": null,
   "metadata": {},
   "outputs": [],
   "source": [
    "raw_od.info[\"bads\"] = list(compress(raw_od.ch_names, sci < 0.5))\n",
    "#coverting it to haemodynamic values\n",
    "raw_haemo = mne.preprocessing.nirs.beer_lambert_law(raw_od, ppf=0.1)\n",
    "raw_haemo.plot(n_channels=len(raw_haemo.ch_names), duration=500, show_scrollbars=False)"
   ]
  },
  {
   "cell_type": "code",
   "execution_count": null,
   "metadata": {},
   "outputs": [],
   "source": [
    "#removing the hear rate from the signal\n",
    "raw_haemo_unfiltered = raw_haemo.copy()\n",
    "raw_haemo.filter(0.05, 0.7, h_trans_bandwidth=0.2, l_trans_bandwidth=0.02)\n",
    "for when, _raw in dict(Before=raw_haemo_unfiltered, After=raw_haemo).items():\n",
    "    fig = _raw.compute_psd().plot(\n",
    "        average=True, amplitude=False, picks=\"data\", exclude=\"bads\"\n",
    "    )\n",
    "    fig.suptitle(f\"{when} filtering\", weight=\"bold\", size=\"x-large\")\n"
   ]
  },
  {
   "cell_type": "code",
   "execution_count": null,
   "metadata": {},
   "outputs": [],
   "source": [
    "events, event_dict = mne.events_from_annotations(raw_haemo)\n",
    "reject_criteria = dict(hbo=80e-6)\n",
    "tmin, tmax = -5, 15\n",
    "\n",
    "epochs = mne.Epochs(\n",
    "    raw_haemo,\n",
    "    events,\n",
    "    event_id=event_dict,\n",
    "    tmin=tmin,\n",
    "    tmax=tmax,\n",
    "    reject=reject_criteria,\n",
    "    reject_by_annotation=True,\n",
    "    proj=True,\n",
    "    baseline=(None, 0),\n",
    "    preload=True,\n",
    "    detrend=None,\n",
    "    verbose=True,\n",
    ")\n",
    "epochs.plot_drop_log()\n",
    "epochs.plot_image(\n",
    "    combine=\"mean\",\n",
    "    vmin=-30,\n",
    "    vmax=30,\n",
    "    ts_args=dict(ylim=dict(hbo=[-15, 15], hbr=[-15, 15])),\n",
    ")\n"
   ]
  },
  {
   "cell_type": "code",
   "execution_count": null,
   "metadata": {},
   "outputs": [],
   "source": [
    "# plotting the standard fNIR graph\n",
    "evoked_dict = {\n",
    "    \"HbO\": epochs.average(picks=\"hbo\"),\n",
    "    \"HbR\": epochs.average(picks=\"hbr\"),\n",
    "}\n",
    "\n",
    "# Rename channels until the encoding of frequency in ch_name is fixed\n",
    "for condition in evoked_dict:\n",
    "    evoked_dict[condition].rename_channels(lambda x: x[:-4])\n",
    " \n",
    "color_dict = dict(HbO=\"#AA3377\", HbR=\"b\")\n",
    "styles_dict = dict(Control=dict(linestyle=\"dashed\"))\n",
    "\n",
    "mne.viz.plot_compare_evokeds(\n",
    "    evoked_dict, combine=\"mean\", ci=0.95, colors=color_dict, styles=styles_dict\n",
    ")"
   ]
  }
 ],
 "metadata": {
  "kernelspec": {
   "display_name": "base",
   "language": "python",
   "name": "python3"
  },
  "language_info": {
   "codemirror_mode": {
    "name": "ipython",
    "version": 3
   },
   "file_extension": ".py",
   "mimetype": "text/x-python",
   "name": "python",
   "nbconvert_exporter": "python",
   "pygments_lexer": "ipython3",
   "version": "3.12.5"
  }
 },
 "nbformat": 4,
 "nbformat_minor": 2
}
